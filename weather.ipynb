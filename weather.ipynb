{
 "cells": [
  {
   "cell_type": "code",
   "execution_count": 1,
   "id": "4f20bd22-e138-4d36-8776-0d2e8b71aaf8",
   "metadata": {},
   "outputs": [
    {
     "name": "stdout",
     "output_type": "stream",
     "text": [
      "Defaulting to user installation because normal site-packages is not writeable\n",
      "Requirement already satisfied: requests in c:\\users\\mklsi\\appdata\\roaming\\python\\python311\\site-packages (2.31.0)\n",
      "Requirement already satisfied: charset-normalizer<4,>=2 in c:\\users\\mklsi\\appdata\\roaming\\python\\python311\\site-packages (from requests) (3.3.2)\n",
      "Requirement already satisfied: idna<4,>=2.5 in c:\\users\\mklsi\\appdata\\roaming\\python\\python311\\site-packages (from requests) (3.4)\n",
      "Requirement already satisfied: urllib3<3,>=1.21.1 in c:\\users\\mklsi\\appdata\\roaming\\python\\python311\\site-packages (from requests) (2.1.0)\n",
      "Requirement already satisfied: certifi>=2017.4.17 in c:\\users\\mklsi\\appdata\\roaming\\python\\python311\\site-packages (from requests) (2023.11.17)\n",
      "Note: you may need to restart the kernel to use updated packages.\n"
     ]
    }
   ],
   "source": [
    "pip install requests"
   ]
  },
  {
   "cell_type": "code",
   "execution_count": 2,
   "id": "b7dd6877-385f-4b80-8333-c5d00529cee7",
   "metadata": {},
   "outputs": [
    {
     "name": "stdout",
     "output_type": "stream",
     "text": [
      "Defaulting to user installation because normal site-packages is not writeable\n",
      "Requirement already satisfied: pillow in c:\\users\\mklsi\\appdata\\roaming\\python\\python311\\site-packages (10.1.0)\n",
      "Note: you may need to restart the kernel to use updated packages.\n"
     ]
    }
   ],
   "source": [
    "pip install pillow"
   ]
  },
  {
   "cell_type": "code",
   "execution_count": null,
   "id": "68e7b3d2-a5ae-40af-ad90-7a801c8a1070",
   "metadata": {},
   "outputs": [],
   "source": [
    "from tkinter import *\n",
    "import requests\n",
    "from PIL import Image, ImageTk\n",
    "from io import BytesIO\n",
    "\n",
    "# API key and base URL for OpenWeatherMap\n",
    "API_KEY = \"YOUR_API_KEY\"\n",
    "BASE_URL = \"https://api.openweathermap.org/data/2.5/weather?\"\n",
    "\n",
    "# Define functions for fetching weather data and updating UI\n",
    "def get_weather(city):\n",
    "    \"\"\"\n",
    "    Retrieves weather data for a given city.\n",
    "\n",
    "    Args:\n",
    "        city: City name to fetch weather for.\n",
    "\n",
    "    Returns:\n",
    "        A dictionary containing weather information.\n",
    "    \"\"\"\n",
    "    params = {\"q\": city, \"appid\": API_KEY}\n",
    "    response = requests.get(BASE_URL, params=params)\n",
    "    return response.json()\n",
    "\n",
    "def update_ui(data):\n",
    "    \"\"\"\n",
    "    Updates the UI with retrieved weather data.\n",
    "\n",
    "    Args:\n",
    "        data: Weather data dictionary.\n",
    "    \"\"\"\n",
    "    temperature = data[\"main\"][\"temp\"] - 273.15  # Convert Kelvin to Celsius\n",
    "    feels_like = data[\"main\"][\"feels_like\"] - 273.15\n",
    "    humidity = data[\"main\"][\"humidity\"]\n",
    "    weather_description = data[\"weather\"][0][\"description\"]\n",
    "\n",
    "    # Update labels with values\n",
    "    temp_label.config(text=f\"Temperature: {temperature:.2f}°C\")\n",
    "    feels_like_label.config(text=f\"Feels Like: {feels_like:.2f}°C\")\n",
    "    humidity_label.config(text=f\"Humidity: {humidity}%\")\n",
    "    description_label.config(text=f\"Description: {weather_description}\")\n",
    "\n",
    "    # Update weather icon\n",
    "    weather_icon = data[\"weather\"][0][\"icon\"]\n",
    "    icon_url = f\"http://openweathermap.org/img/wn/{weather_icon}.png\"\n",
    "    response = requests.get(icon_url)\n",
    "    image = Image.open(BytesIO(response.content))\n",
    "    photo_image = ImageTk.PhotoImage(image)\n",
    "    icon_label.config(image=photo_image)\n",
    "    icon_label.image = photo_image\n",
    "\n",
    "# Initialize Tkinter window\n",
    "root = Tk()\n",
    "root.title(\"Weather App\")\n",
    "root.geometry(\"400x300\")\n",
    "\n",
    "# Entry field for city name\n",
    "city_entry = Entry(root, width=30)\n",
    "city_entry.pack(pady=10)\n",
    "\n",
    "# Button to get weather\n",
    "get_weather_button = Button(root, text=\"Get Weather\", command=lambda: update_ui(get_weather(city_entry.get())))\n",
    "get_weather_button.pack()\n",
    "\n",
    "# Labels for displaying weather information\n",
    "temp_label = Label(root, text=\"\")\n",
    "feels_like_label = Label(root, text=\"\")\n",
    "humidity_label = Label(root, text=\"\")\n",
    "description_label = Label(root, text=\"\")\n",
    "icon_label = Label(root, image=\"\")\n",
    "\n",
    "# Place labels on the window\n",
    "temp_label.pack(pady=10)\n",
    "feels_like_label.pack(pady=5)\n",
    "humidity_label.pack(pady=5)\n",
    "description_label.pack(pady=5)\n",
    "icon_label.pack()\n",
    "\n",
    "# Run the main event loop\n",
    "root.mainloop()"
   ]
  },
  {
   "cell_type": "code",
   "execution_count": null,
   "id": "4954750c-a9cb-496e-91dc-ac2f10b2950d",
   "metadata": {},
   "outputs": [],
   "source": []
  }
 ],
 "metadata": {
  "kernelspec": {
   "display_name": "Python 3 (ipykernel)",
   "language": "python",
   "name": "python3"
  },
  "language_info": {
   "codemirror_mode": {
    "name": "ipython",
    "version": 3
   },
   "file_extension": ".py",
   "mimetype": "text/x-python",
   "name": "python",
   "nbconvert_exporter": "python",
   "pygments_lexer": "ipython3",
   "version": "3.11.5"
  }
 },
 "nbformat": 4,
 "nbformat_minor": 5
}
